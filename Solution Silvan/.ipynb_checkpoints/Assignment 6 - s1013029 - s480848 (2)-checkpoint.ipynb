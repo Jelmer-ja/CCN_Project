{
 "cells": [
  {
   "cell_type": "markdown",
   "metadata": {},
   "source": [
    "# Laura Tigchelaar (s1013029) - Jelmer Jansen (s4480848)"
   ]
  },
  {
   "cell_type": "markdown",
   "metadata": {},
   "source": [
    "Import the necessary packages. This notebook will only run properly when utils.py from Assignment 1 is in the same folder, since it needs the get_MNIST() function and the RandomIterator class. "
   ]
  },
  {
   "cell_type": "code",
   "execution_count": 1,
   "metadata": {
    "collapsed": true
   },
   "outputs": [],
   "source": [
    "import chainer.functions as F\n",
    "import chainer.links as L\n",
    "from chainer import Link, Chain, ChainList, report, iterators, optimizers\n",
    "import matplotlib.pyplot as plt\n",
    "import math\n",
    "import random\n",
    "from utils import *"
   ]
  },
  {
   "cell_type": "markdown",
   "metadata": {},
   "source": [
    "Define a generator neural network which can generate MNIST data of class zero when given random noise as input. "
   ]
  },
  {
   "cell_type": "code",
   "execution_count": 2,
   "metadata": {
    "collapsed": true
   },
   "outputs": [],
   "source": [
    "class Generator(Chain):\n",
    "    def __init__(self, n_units):\n",
    "        super(Generator, self).__init__()\n",
    "        self.mnist_dim = 28\n",
    "        self.n_units = n_units\n",
    "        with self.init_scope():\n",
    "            # the size of the inputs to each layer will be inferred\n",
    "            self.l1 = L.Linear(n_units * self.mnist_dim **2)  # n_in -> n_units        INPUT LAYER\n",
    "            self.l2 = L.BatchNormalization(n_units * self.mnist_dim ** 2)    # n_units -> n_out       BATCH NORMALIZATION\n",
    "            self.l3 = L.Deconvolution2D(in_channels=n_units, out_channels=1, ksize=3, stride=1,pad=1,outsize=(28,28))                   #  DECONVOLUTION\n",
    "\n",
    "    def __call__(self, x):\n",
    "        h1 = self.l1(x)\n",
    "        h2 = F.relu(self.l2(h1))\n",
    "        h = F.reshape(h2, [-1,self.n_units,self.mnist_dim,self.mnist_dim])\n",
    "        y = F.sigmoid(self.l3(h))\n",
    "        return y"
   ]
  },
  {
   "cell_type": "markdown",
   "metadata": {},
   "source": [
    "Define a discriminator neural network which outputs 1 when given real MNIST data and 0 when given fake data created by the generator network. "
   ]
  },
  {
   "cell_type": "code",
   "execution_count": 3,
   "metadata": {
    "collapsed": true
   },
   "outputs": [],
   "source": [
    "class Discriminator(Chain):\n",
    "    def __init__(self, n_units):\n",
    "        super(Discriminator, self).__init__()\n",
    "        with self.init_scope():\n",
    "            # the size of the inputs to each layer will be inferred\n",
    "            self.l2 = L.Convolution2D(in_channels=None, out_channels=n_units,ksize=3,stride=1)  # n_units -> n_units  CONVOLUTIONAL LAYER\n",
    "            self.l3 = L.Linear(None, 1)    # n_units -> n_out\n",
    "\n",
    "    def __call__(self, x):\n",
    "        h2 = F.relu(self.l2(x))\n",
    "        y = F.squeeze(self.l3(h2))\n",
    "        return y"
   ]
  },
  {
   "cell_type": "markdown",
   "metadata": {},
   "source": [
    "Create some helper functions to make the above networks run properly. The function **randomsample()** will return an array of random numbers of _size_ times _batch_size_. The **plot_loss()** function plots the loss of both networks, which is given by the input as a double list. The **showImages()** function will print 10 MNIST images created by the generator network. "
   ]
  },
  {
   "cell_type": "code",
   "execution_count": 26,
   "metadata": {
    "collapsed": true
   },
   "outputs": [],
   "source": [
    "def randomsample(size,batch_size):\n",
    "    return np.random.uniform(-1.0,1.0,[batch_size,size]).astype('float32')\n",
    "\n",
    "def plot_loss(loss,epoch):\n",
    "    plt.plot(np.array(range(1, epoch + 1)), np.array(loss[0]), label='Discriminator Loss')\n",
    "    plt.plot(np.array(range(1, epoch + 1)), np.array(loss[1]), label='Generator Loss')\n",
    "    plt.legend()\n",
    "    plt.show()\n",
    "\n",
    "def showImages(gen):\n",
    "    f,axes = plt.subplots(2,5)\n",
    "    noise = randomsample(20, 10)\n",
    "    with chainer.using_config('train', False):\n",
    "        images = gen(noise)\n",
    "\n",
    "    for i in range(0,10):\n",
    "        if(i % 2 == 0):\n",
    "            x = 0\n",
    "        else:\n",
    "            x = 1\n",
    "        y = int(round(i/2,0))\n",
    "\n",
    "        axes[x][y].imshow(np.reshape(images[i].data[:,], (28, 28), order='F'))\n",
    "    plt.show()"
   ]
  },
  {
   "cell_type": "markdown",
   "metadata": {},
   "source": [
    "Define a function which runs both networks for a certain number of epochs. For each epoch, this function takes _k_ batches from the data and lets the discriminator compare these to batches of data created by the generator. The loss is then calculated with a sigmoid cross entropy function, and used to update the weights of the discriminator network through the _backward()_ and _update()_ functions. \n",
    "\n",
    "Then the generator network is updated by taking the probability that its images get recognized as fake data as the loss, which is then used to update the weights of the generator network through the _backward()_ and _update()_ functions. "
   ]
  },
  {
   "cell_type": "code",
   "execution_count": 23,
   "metadata": {
    "collapsed": true
   },
   "outputs": [],
   "source": [
    "def run_network(epoch,batch_size,gen,dis,iterator,n_units,g_optimizer,d_optimizer):\n",
    "    losses = [[],[]]\n",
    "    for i in range(0,epoch):\n",
    "        #for j in range (0,batch_size) THEY USED K=1 IN THE PAPER SO SO DO WE\n",
    "        dloss_all = 0\n",
    "        gloss_all = 0\n",
    "        with chainer.using_config('train', True):\n",
    "\n",
    "            for batch in iterator:\n",
    "                dis.cleargrads(); gen.cleargrads()\n",
    "                noise = randomsample(20,batch_size)\n",
    "                g_sample = gen(noise)\n",
    "                disc_gen = dis(g_sample)\n",
    "                disc_data = dis(batch)\n",
    "                softmax1 = F.sigmoid_cross_entropy(disc_gen,np.zeros(batch_size).astype('int32'))\n",
    "                softmax2 = F.sigmoid_cross_entropy(disc_data,np.ones(batch_size).astype('int32'))\n",
    "                loss = softmax1 + softmax2\n",
    "                loss.backward()\n",
    "                d_optimizer.update()\n",
    "\n",
    "                noise = randomsample(20, batch_size)\n",
    "                gn = gen(noise)\n",
    "                gloss = F.sigmoid_cross_entropy(disc_gen,np.ones(batch_size).astype('int32'))\n",
    "                gloss.backward()\n",
    "                g_optimizer.update()\n",
    "\n",
    "                dloss_all +=gloss.data\n",
    "                gloss_all +=loss.data\n",
    "            losses[0].append(dloss_all)\n",
    "            losses[1].append(gloss_all)\n",
    "            print(i)\n",
    "    return losses"
   ]
  },
  {
   "cell_type": "markdown",
   "metadata": {},
   "source": [
    "Define the hyperparameters of the network, including the number of epochs, the batch size, and the number of hidden units per network layer. Also define the two networks themselves, an iterator for the train data and optimizers for both the networks. "
   ]
  },
  {
   "cell_type": "code",
   "execution_count": 24,
   "metadata": {
    "collapsed": true
   },
   "outputs": [],
   "source": [
    "epoch = 20\n",
    "train_data, test_data = get_mnist(n_train=1000,n_test=100,with_label=False,classes=[0], n_dim=3)\n",
    "batch_size = 5\n",
    "n_units = 10\n",
    "gen = Generator(n_units)\n",
    "dis = Discriminator(n_units)\n",
    "iterator = RandomIterator(train_data,batch_size)\n",
    "g_optimizer = optimizers.Adam()\n",
    "g_optimizer.setup(gen)\n",
    "d_optimizer = optimizers.Adam()\n",
    "d_optimizer.setup(dis)"
   ]
  },
  {
   "cell_type": "markdown",
   "metadata": {},
   "source": [
    "Run both adversarial networks, plot the loss and show 10 images created by the generator network. "
   ]
  },
  {
   "cell_type": "code",
   "execution_count": 25,
   "metadata": {},
   "outputs": [
    {
     "name": "stdout",
     "output_type": "stream",
     "text": [
      "0\n",
      "1\n",
      "2\n",
      "3\n",
      "4\n",
      "5\n",
      "6\n",
      "7\n",
      "8\n",
      "9\n",
      "10\n",
      "11\n",
      "12\n",
      "13\n",
      "14\n",
      "15\n",
      "16\n",
      "17\n",
      "18\n",
      "19\n"
     ]
    }
   ],
   "source": [
    "loss = run_network(epoch,batch_size,gen,dis,iterator,n_units,g_optimizer,d_optimizer)"
   ]
  },
  {
   "cell_type": "code",
   "execution_count": 27,
   "metadata": {},
   "outputs": [
    {
     "data": {
      "image/png": "[encoded data removed]",
      "text/plain": [
       "<matplotlib.figure.Figure at 0x7f87bc4aecd0>"
      ]
     },
     "metadata": {},
     "output_type": "display_data"
    },
    {
     "data": {
      "image/png": "[encoded data removed]",
      "text/plain": [
       "<matplotlib.figure.Figure at 0x7f87bc4ae310>"
      ]
     },
     "metadata": {},
     "output_type": "display_data"
    }
   ],
   "source": [
    "showImages(gen)\n",
    "plot_loss(loss,epoch)"
   ]
  }
 ],
 "metadata": {
  "kernelspec": {
   "display_name": "Python 2",
   "language": "python",
   "name": "python2"
  },
  "language_info": {
   "codemirror_mode": {
    "name": "ipython",
    "version": 2
   },
   "file_extension": ".py",
   "mimetype": "text/x-python",
   "name": "python",
   "nbconvert_exporter": "python",
   "pygments_lexer": "ipython2",
   "version": "2.7.13"
  }
 },
 "nbformat": 4,
 "nbformat_minor": 2
}
